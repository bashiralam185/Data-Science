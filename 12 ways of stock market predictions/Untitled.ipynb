{
 "cells": [
  {
   "cell_type": "code",
   "execution_count": 36,
   "id": "53b07fbc",
   "metadata": {},
   "outputs": [
    {
     "data": {
      "text/html": [
       "<div>\n",
       "<style scoped>\n",
       "    .dataframe tbody tr th:only-of-type {\n",
       "        vertical-align: middle;\n",
       "    }\n",
       "\n",
       "    .dataframe tbody tr th {\n",
       "        vertical-align: top;\n",
       "    }\n",
       "\n",
       "    .dataframe thead th {\n",
       "        text-align: right;\n",
       "    }\n",
       "</style>\n",
       "<table border=\"1\" class=\"dataframe\">\n",
       "  <thead>\n",
       "    <tr style=\"text-align: right;\">\n",
       "      <th></th>\n",
       "      <th>Index</th>\n",
       "      <th>Date</th>\n",
       "      <th>Open</th>\n",
       "      <th>High</th>\n",
       "      <th>Low</th>\n",
       "      <th>Close</th>\n",
       "      <th>Adj Close</th>\n",
       "      <th>Volume</th>\n",
       "      <th>CloseUSD</th>\n",
       "    </tr>\n",
       "  </thead>\n",
       "  <tbody>\n",
       "    <tr>\n",
       "      <th>0</th>\n",
       "      <td>HSI</td>\n",
       "      <td>1986-12-31</td>\n",
       "      <td>2568.300049</td>\n",
       "      <td>2568.300049</td>\n",
       "      <td>2568.300049</td>\n",
       "      <td>2568.300049</td>\n",
       "      <td>2568.300049</td>\n",
       "      <td>0.0</td>\n",
       "      <td>333.879006</td>\n",
       "    </tr>\n",
       "    <tr>\n",
       "      <th>1</th>\n",
       "      <td>HSI</td>\n",
       "      <td>1987-01-02</td>\n",
       "      <td>2540.100098</td>\n",
       "      <td>2540.100098</td>\n",
       "      <td>2540.100098</td>\n",
       "      <td>2540.100098</td>\n",
       "      <td>2540.100098</td>\n",
       "      <td>0.0</td>\n",
       "      <td>330.213013</td>\n",
       "    </tr>\n",
       "    <tr>\n",
       "      <th>2</th>\n",
       "      <td>HSI</td>\n",
       "      <td>1987-01-05</td>\n",
       "      <td>2552.399902</td>\n",
       "      <td>2552.399902</td>\n",
       "      <td>2552.399902</td>\n",
       "      <td>2552.399902</td>\n",
       "      <td>2552.399902</td>\n",
       "      <td>0.0</td>\n",
       "      <td>331.811987</td>\n",
       "    </tr>\n",
       "    <tr>\n",
       "      <th>3</th>\n",
       "      <td>HSI</td>\n",
       "      <td>1987-01-06</td>\n",
       "      <td>2583.899902</td>\n",
       "      <td>2583.899902</td>\n",
       "      <td>2583.899902</td>\n",
       "      <td>2583.899902</td>\n",
       "      <td>2583.899902</td>\n",
       "      <td>0.0</td>\n",
       "      <td>335.906987</td>\n",
       "    </tr>\n",
       "    <tr>\n",
       "      <th>4</th>\n",
       "      <td>HSI</td>\n",
       "      <td>1987-01-07</td>\n",
       "      <td>2607.100098</td>\n",
       "      <td>2607.100098</td>\n",
       "      <td>2607.100098</td>\n",
       "      <td>2607.100098</td>\n",
       "      <td>2607.100098</td>\n",
       "      <td>0.0</td>\n",
       "      <td>338.923013</td>\n",
       "    </tr>\n",
       "  </tbody>\n",
       "</table>\n",
       "</div>"
      ],
      "text/plain": [
       "  Index        Date         Open         High          Low        Close  \\\n",
       "0   HSI  1986-12-31  2568.300049  2568.300049  2568.300049  2568.300049   \n",
       "1   HSI  1987-01-02  2540.100098  2540.100098  2540.100098  2540.100098   \n",
       "2   HSI  1987-01-05  2552.399902  2552.399902  2552.399902  2552.399902   \n",
       "3   HSI  1987-01-06  2583.899902  2583.899902  2583.899902  2583.899902   \n",
       "4   HSI  1987-01-07  2607.100098  2607.100098  2607.100098  2607.100098   \n",
       "\n",
       "     Adj Close  Volume    CloseUSD  \n",
       "0  2568.300049     0.0  333.879006  \n",
       "1  2540.100098     0.0  330.213013  \n",
       "2  2552.399902     0.0  331.811987  \n",
       "3  2583.899902     0.0  335.906987  \n",
       "4  2607.100098     0.0  338.923013  "
      ]
     },
     "execution_count": 36,
     "metadata": {},
     "output_type": "execute_result"
    }
   ],
   "source": [
    "# importing the pandas module\n",
    "import pandas as pd\n",
    "\n",
    "# reading the dataset\n",
    "data = pd.read_csv(\"Stock_price.csv\")\n",
    "\n",
    "\n",
    "# data head\n",
    "data.head()"
   ]
  },
  {
   "cell_type": "code",
   "execution_count": 29,
   "id": "558bb54f",
   "metadata": {},
   "outputs": [],
   "source": [
    "\n",
    "# splitting dataframe in a particular size\n",
    "data = data.sample(frac=0.1,random_state=200)"
   ]
  },
  {
   "cell_type": "code",
   "execution_count": 37,
   "id": "e9b75aec",
   "metadata": {},
   "outputs": [],
   "source": [
    "# dropping the column\n",
    "data.drop(\"Index\",axis=1, inplace=True)\n",
    "data.drop(\"Date\",axis=1, inplace=True)"
   ]
  },
  {
   "cell_type": "code",
   "execution_count": 38,
   "id": "f807c43f",
   "metadata": {},
   "outputs": [],
   "source": [
    "# splitting the dataset into input and output values\n",
    "x = data[[\"Open\", \"High\", \"High\", \"High\", \"Adj Close\", \"Volume\"]]\n",
    "y = data[\"CloseUSD\"]\n",
    "\n",
    "# converting to numpy array\n",
    "x = x.to_numpy()\n",
    "y = y.to_numpy()\n",
    "\n",
    "# fixing the shape of output\n",
    "y = y.reshape(-1, 1)"
   ]
  },
  {
   "cell_type": "code",
   "execution_count": 8,
   "id": "962a72d1",
   "metadata": {},
   "outputs": [],
   "source": [
    "# importing the modules\n",
    "from keras.models import Sequential\n",
    "from keras.layers import Dense, LSTM\n",
    "\n",
    "# initializing the model\n",
    "model = Sequential()\n",
    "\n",
    "\n",
    "# building the neural network with 128 nodes and specifing the input shape \n",
    "model.add(LSTM(128, return_sequences=True, input_shape= (x.shape[1], 1)))\n",
    "\n",
    "# adding hidden layers\n",
    "model.add(LSTM(64, return_sequences=False))\n",
    "\n",
    "# adding dense layer\n",
    "model.add(Dense(25))\n",
    "\n",
    "# adding output layer\n",
    "model.add(Dense(1))"
   ]
  },
  {
   "cell_type": "code",
   "execution_count": 12,
   "id": "7dd26c8e",
   "metadata": {},
   "outputs": [
    {
     "name": "stdout",
     "output_type": "stream",
     "text": [
      "Epoch 1/2\n",
      "104224/104224 [==============================] - 484s 5ms/step - loss: 11763089.0000\n",
      "Epoch 2/2\n",
      "104224/104224 [==============================] - 396s 4ms/step - loss: 10925092.0000\n"
     ]
    },
    {
     "data": {
      "text/plain": [
       "<keras.callbacks.History at 0x7fb4543fe040>"
      ]
     },
     "execution_count": 12,
     "metadata": {},
     "output_type": "execute_result"
    }
   ],
   "source": [
    "# compliting the neural network model\n",
    "model.compile(optimizer='adam', loss='mean_squared_error')\n",
    "\n",
    "# fiting the model on 10 epochs \n",
    "model.fit(x, y, batch_size=1, epochs=2)"
   ]
  },
  {
   "cell_type": "code",
   "execution_count": 14,
   "id": "13583021",
   "metadata": {},
   "outputs": [
    {
     "name": "stdout",
     "output_type": "stream",
     "text": [
      "1/1 [==============================] - 1s 1s/step\n"
     ]
    },
    {
     "data": {
      "text/plain": [
       "array([[1679.2015]], dtype=float32)"
      ]
     },
     "execution_count": 14,
     "metadata": {},
     "output_type": "execute_result"
    }
   ],
   "source": [
    "# import numpy\n",
    "import numpy as np\n",
    "\n",
    "# input values\n",
    "Open = 2568.300049\n",
    "High = 2540.100098\n",
    "low = 2552.399902\n",
    "close = 2583.899902\n",
    "ad_price = 2607.100098\n",
    "volume = 0\n",
    "\n",
    "# concerting the input to array\n",
    "features = np.array([[Open, High, low, close, ad_price, volume]])\n",
    "\n",
    "# prediting the closing price\n",
    "model.predict(features)"
   ]
  },
  {
   "cell_type": "code",
   "execution_count": 32,
   "id": "88ee6520",
   "metadata": {},
   "outputs": [
    {
     "data": {
      "text/plain": [
       "GaussianProcessRegressor()"
      ]
     },
     "execution_count": 32,
     "metadata": {},
     "output_type": "execute_result"
    }
   ],
   "source": [
    "# importing the module\n",
    "from sklearn.gaussian_process import GaussianProcessRegressor\n",
    "\n",
    "# iniliazing the gaussian process regressor\n",
    "model = GaussianProcessRegressor()\n",
    "\n",
    "# training the model\n",
    "model.fit(x, y)"
   ]
  },
  {
   "cell_type": "code",
   "execution_count": 35,
   "id": "c98d2b42",
   "metadata": {},
   "outputs": [
    {
     "data": {
      "text/plain": [
       "array([[0.]])"
      ]
     },
     "execution_count": 35,
     "metadata": {},
     "output_type": "execute_result"
    }
   ],
   "source": [
    "# input values\n",
    "Open = 2568.300049\n",
    "High = 2540.100098\n",
    "low = 2552.399902\n",
    "close = 2583.899902\n",
    "ad_price = 2607.100098\n",
    "volume = 0\n",
    "\n",
    "# concerting the input to array\n",
    "features = np.array([[Open, High, low, close, ad_price, volume]])\n",
    "\n",
    "# prediting the closing price\n",
    "model.predict(features)"
   ]
  },
  {
   "cell_type": "code",
   "execution_count": 41,
   "id": "785b4864",
   "metadata": {},
   "outputs": [
    {
     "data": {
      "text/plain": [
       "RANSACRegressor()"
      ]
     },
     "execution_count": 41,
     "metadata": {},
     "output_type": "execute_result"
    }
   ],
   "source": [
    "# importing the module\n",
    "from sklearn.linear_model import RANSACRegressor\n",
    "\n",
    "# Initializing the model\n",
    "model = RANSACRegressor()\n",
    "\n",
    "# training the model\n",
    "model.fit(x, y)"
   ]
  },
  {
   "cell_type": "code",
   "execution_count": 42,
   "id": "5d5d1035",
   "metadata": {},
   "outputs": [
    {
     "data": {
      "text/plain": [
       "array([[153.18575136]])"
      ]
     },
     "execution_count": 42,
     "metadata": {},
     "output_type": "execute_result"
    }
   ],
   "source": [
    "# input values\n",
    "Open = 2568.300049\n",
    "High = 2540.100098\n",
    "low = 2552.399902\n",
    "close = 2583.899902\n",
    "ad_price = 2607.100098\n",
    "volume = 0\n",
    "\n",
    "# concerting the input to array\n",
    "features = np.array([[Open, High, low, close, ad_price, volume]])\n",
    "\n",
    "# prediting the closing price\n",
    "model.predict(features)"
   ]
  },
  {
   "cell_type": "code",
   "execution_count": null,
   "id": "a4693807",
   "metadata": {},
   "outputs": [],
   "source": []
  }
 ],
 "metadata": {
  "kernelspec": {
   "display_name": "Python 3 (ipykernel)",
   "language": "python",
   "name": "python3"
  },
  "language_info": {
   "codemirror_mode": {
    "name": "ipython",
    "version": 3
   },
   "file_extension": ".py",
   "mimetype": "text/x-python",
   "name": "python",
   "nbconvert_exporter": "python",
   "pygments_lexer": "ipython3",
   "version": "3.9.12"
  }
 },
 "nbformat": 4,
 "nbformat_minor": 5
}
